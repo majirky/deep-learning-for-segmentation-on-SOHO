{
 "cells": [
  {
   "attachments": {},
   "cell_type": "markdown",
   "metadata": {},
   "source": [
    "## Cropping sun's disk\n",
    "\n",
    "<img src=\"../figures/example-uncropped2.jpg\"  width=\"600\" height=\"600\">   \n",
    "\n",
    "From uncropped image above, we should get this cropped image:   \n",
    "\n",
    "<img src=\"../figures/example-cropped.png\"  width=\"600\" height=\"600\"> "
   ]
  },
  {
   "attachments": {},
   "cell_type": "markdown",
   "metadata": {},
   "source": [
    "Because sun's distance is different all year round we could not use one base margin from sides for whole year. (sun's disk on left)  \n",
    "We wanted to get better cropping (sun's disk on right)     \n",
    "\n",
    "<img src=\"../figures/distances.png\"  width=\"1000\" height=\"300\">   \n",
    "\n",
    "functions we used to get better cropping are located in crop_functions.py file. In this notebook we use main scrip with main function to get those better croppings.   \n",
    "\n",
    "because center pixel of sun was not always in the center of image, we had to use what we call **base margin**. This base margin is number of pixels\n",
    "from one end of the image to edge of sun's disk in **first day of selected year**\n",
    "\n",
    "**base margins are shown with red line on uncropped image above**"
   ]
  },
  {
   "cell_type": "code",
   "execution_count": 1,
   "metadata": {
    "collapsed": true
   },
   "outputs": [],
   "source": [
    "from crop_functions import *"
   ]
  },
  {
   "cell_type": "code",
   "execution_count": 13,
   "metadata": {
    "collapsed": false
   },
   "outputs": [],
   "source": [
    "path = \"/Users/majirky/Desktop/slnko/1999-fotky/*.jpg\"\n",
    "path_to_save = \"imgs_1999/\"  # save path has to end with /"
   ]
  },
  {
   "cell_type": "code",
   "execution_count": 16,
   "metadata": {
    "collapsed": false
   },
   "outputs": [
    {
     "data": {
      "application/vnd.jupyter.widget-view+json": {
       "model_id": "dfbcc9a81f504650bab2c6fe66f425a4",
       "version_major": 2,
       "version_minor": 0
      },
      "text/plain": [
       "  0%|          | 0/277 [00:00<?, ?it/s]"
      ]
     },
     "metadata": {},
     "output_type": "display_data"
    }
   ],
   "source": [
    "# base margins should be inputed clock-wise\n",
    "crop_and_save(path, path_to_save, 132, 142, 143, 132)"
   ]
  }
 ],
 "metadata": {
  "kernelspec": {
   "display_name": "Python 3",
   "language": "python",
   "name": "python3"
  },
  "language_info": {
   "codemirror_mode": {
    "name": "ipython",
    "version": 3
   },
   "file_extension": ".py",
   "mimetype": "text/x-python",
   "name": "python",
   "nbconvert_exporter": "python",
   "pygments_lexer": "ipython3",
   "version": "3.9.13"
  }
 },
 "nbformat": 4,
 "nbformat_minor": 0
}
