{
 "cells": [
  {
   "attachments": {},
   "cell_type": "markdown",
   "metadata": {
    "collapsed": false
   },
   "source": [
    "## getting SPoCA annotations from HEK (Heliophysics Event Knowledgebase)  \n",
    "(more info about HEK: https://link.springer.com/content/pdf/10.1007/978-1-4614-3673-7_5.pdf)  \n",
    "   \n",
    "In this notebook, we present functions with script that helped us get SPoCA annotations for SOHO images  \n",
    "Main function is **make_spoca_imgs()** that uses other defined functions.  \n",
    "**Main script that uses make_spoca_imgs()** function is at the bottom   \n",
    "We also provide additional script that helped us move images to folder\n"
   ]
  },
  {
   "cell_type": "code",
   "execution_count": 11,
   "metadata": {
    "collapsed": false
   },
   "outputs": [],
   "source": [
    "import glob\n",
    "from sunpy.net import attrs as a\n",
    "from sunpy.net import Fido\n",
    "# sunpy lib may not be resolved by VS code but works fine\n",
    "import datetime\n",
    "from PIL import Image, ImageDraw\n",
    "from PIL import Image\n",
    "from tqdm.notebook import tqdm, trange"
   ]
  },
  {
   "cell_type": "code",
   "execution_count": 7,
   "metadata": {
    "collapsed": false
   },
   "outputs": [],
   "source": [
    "def get_date_hours(path):\n",
    "    \"\"\"gets date and horus string for helioviewerClient from filepath\n",
    "\n",
    "    Args:\n",
    "        path (string): filepath from which we need date \n",
    "\n",
    "    Returns:\n",
    "        string: date in format %Y/%m/%d %H:%M:%S\n",
    "    \"\"\"\n",
    "\n",
    "    date_str = path.split(\"/\")[-1].split(\"_\")[0]\n",
    "    time_str = path.split(\"/\")[-1].split(\"_\")[1]\n",
    "    dt = datetime.datetime.strptime(date_str + time_str, \"%Y%m%d%H%M\")\n",
    "    return dt.strftime(\"%Y/%m/%d %H:%M:%S\")"
   ]
  },
  {
   "cell_type": "code",
   "execution_count": 4,
   "metadata": {
    "collapsed": false
   },
   "outputs": [],
   "source": [
    "def get_coords(polygon_result):\n",
    "    \"\"\"gets coords for annotation from Fido search result\n",
    "\n",
    "    Args:\n",
    "        polygon_result (list): list of coordinates of ONE event from Fido search result\n",
    "    \"\"\"\n",
    "    CENTER = 1328\n",
    "\n",
    "    length = len(polygon_result)\n",
    "    polygon_coord = polygon_result[9:length - 2]\n",
    "\n",
    "    coords = polygon_coord.split(\",\")\n",
    "    single_coord = []\n",
    "\n",
    "    for coord in coords:\n",
    "        single_coord.append(coord.split(\" \"))\n",
    "\n",
    "    one_coords = []\n",
    "    for coord in single_coord:\n",
    "        one_coords.append(list(map(float, coord)))\n",
    "\n",
    "    for i in range(len(one_coords)):\n",
    "        one_coords[i][0] = CENTER + one_coords[i][0]\n",
    "        one_coords[i][1] = CENTER - one_coords[i][1]\n",
    "\n",
    "    for i in range(len(one_coords)):\n",
    "        one_coords[i] = tuple(one_coords[i])\n",
    "\n",
    "    one_coords = tuple(one_coords)\n",
    "    return(one_coords)"
   ]
  },
  {
   "cell_type": "code",
   "execution_count": 5,
   "metadata": {
    "collapsed": false
   },
   "outputs": [],
   "source": [
    "def get_anotations(path, event_type):\n",
    "    \"\"\"gets spoca annotation for file. Uses Fido to shearch for SPoCA annotations, then get_coords() to extract coordiantions to list,\n",
    "    so we can use PIL and its ImageDraw to draw polygon of SPoCA annotations coordinates on image\n",
    "\n",
    "    Args:\n",
    "        path (string): path to image file\n",
    "\n",
    "        event_type (string): \"CH\" or \"AR\"\n",
    "\n",
    "    Returns:\n",
    "        list: coordinates of SPoCA annotation for PIL to draw polygon with them\n",
    "    \"\"\"\n",
    "    time = get_date_hours(path)\n",
    "\n",
    "    tstart = time\n",
    "    tend = time\n",
    "    result = Fido.search(a.Time(tstart,tend) , a.hek.EventType(event_type))\n",
    "    anotations = []\n",
    "\n",
    "    # with result[\"hek\"][\"hpc_boundcc\"] we can acces what Fido has found in HEK database\n",
    "    # the result is in form of list of tuples of coordinates where is SPoCA annotation on the image\n",
    "    # as there are more events that day on sun disk, len(result[\"hek\"]) is bigger. if len(result[\"hek\"]) == 0, there are no event with SPoCA annotations\n",
    "    # print(result[\"hek\"][\"hpc_boundcc\"])\n",
    "    if len(result[\"hek\"]) == 0:\n",
    "        return anotations\n",
    "\n",
    "    # extract annotations from Fido search\n",
    "    # loop every event on sun disk and get coords\n",
    "    for i in range(len(result[\"hek\"][\"bound_chaincode\"])):\n",
    "        polygon_result = result[\"hek\"][\"bound_chaincode\"][i]\n",
    "        if polygon_result == \"\":\n",
    "            continue\n",
    "        anotations.append(get_coords(polygon_result))\n",
    "\n",
    "    return anotations"
   ]
  },
  {
   "cell_type": "code",
   "execution_count": 35,
   "metadata": {
    "collapsed": false
   },
   "outputs": [],
   "source": [
    "def make_spoca_imgs(path, save_path, event):\n",
    "    \"\"\"Main function that uses ither defined functions. Saves imgs with spoca annotations\n",
    "\n",
    "    Args:\n",
    "        path (string): path to image for which it should find and draw SPoCA annotations.\n",
    "\n",
    "        save_path (string): path where to save file of SPoCA annotations. It will save black and white images where white regions are\n",
    "        annotation os selected event\n",
    "\n",
    "        event (string): either \"CH\" for coronal holes or \"AR\" for active regions\n",
    "    \"\"\"\n",
    "    IMG_SIZE = 2656   #2656\n",
    "    #center = 1280 + 48     #1328\n",
    "\n",
    "    # finds annotation in HEK\n",
    "    annotations = get_anotations(path, event)\n",
    "\n",
    "    if len(annotations) == 0:\n",
    "        return\n",
    "\n",
    "    # creates black image\n",
    "    img = Image.new(\"RGBA\", [IMG_SIZE, IMG_SIZE], color = \"BLACK\")\n",
    "    # next uncommented code would create copy of original image of suns disk and draw SPoCA annotations on copy of original image.\n",
    "    # img = Image.open(path).resize((IMG_SIZE, IMG_SIZE))\n",
    "    draw = ImageDraw.Draw(img)\n",
    "\n",
    "    # draws white regions that represents SPoCA annotation\n",
    "    for annotation in annotations:\n",
    "        draw.polygon(annotation, outline=\"white\", width=5, fill=\"white\")\n",
    "\n",
    "    resized = img.resize((1024,1024))\n",
    "\n",
    "    image_name_clean = path[-29: -4]\n",
    "    download_path = save_path + image_name_clean + \".png\"\n",
    "\n",
    "    resized.save(download_path)"
   ]
  },
  {
   "cell_type": "code",
   "execution_count": 8,
   "metadata": {
    "collapsed": false
   },
   "outputs": [],
   "source": [
    "def compare_masks_imgs(path, save_path, all_masks):\n",
    "    image_name_clean = path[-29:]\n",
    "\n",
    "    if image_name_clean in all_masks:\n",
    "        img = Image.open(path)\n",
    "        download_path = save_path + image_name_clean\n",
    "        img.save(download_path)"
   ]
  },
  {
   "attachments": {},
   "cell_type": "markdown",
   "metadata": {
    "collapsed": false
   },
   "source": [
    "<img src=\"../figures/spoca-segmentacia.png\"  width=\"600\" height=\"600\">  \n",
    "\n",
    "slnecny disk s najdenou SPoCA annotaciou na JENEJ koronalnej diere"
   ]
  },
  {
   "attachments": {},
   "cell_type": "markdown",
   "metadata": {
    "collapsed": false
   },
   "source": [
    "## Get SPoCA annotations of CH or AR for every year  \n",
    "Main script to get annotations.  \n",
    "SPoCA for coronal holes = 2011 - today  \n",
    "SPoCA for Active regions = 1996 - today"
   ]
  },
  {
   "cell_type": "code",
   "execution_count": 56,
   "metadata": {
    "collapsed": false
   },
   "outputs": [
    {
     "name": "stdout",
     "output_type": "stream",
     "text": [
      "rok hladania: 2019\n"
     ]
    },
    {
     "data": {
      "application/vnd.jupyter.widget-view+json": {
       "model_id": "3a9d6bedd197406ba15c0903a4276542",
       "version_major": 2,
       "version_minor": 0
      },
      "text/plain": [
       "  0%|          | 0/282 [00:00<?, ?it/s]"
      ]
     },
     "metadata": {},
     "output_type": "display_data"
    },
    {
     "name": "stdout",
     "output_type": "stream",
     "text": [
      "rok hladania: 2020\n"
     ]
    },
    {
     "data": {
      "application/vnd.jupyter.widget-view+json": {
       "model_id": "981043820b184591a872fe6153857d15",
       "version_major": 2,
       "version_minor": 0
      },
      "text/plain": [
       "  0%|          | 0/326 [00:00<?, ?it/s]"
      ]
     },
     "metadata": {},
     "output_type": "display_data"
    },
    {
     "name": "stdout",
     "output_type": "stream",
     "text": [
      "rok hladania: 2021\n"
     ]
    },
    {
     "data": {
      "application/vnd.jupyter.widget-view+json": {
       "model_id": "99853eeae0d947fdaec228eed00d2cb8",
       "version_major": 2,
       "version_minor": 0
      },
      "text/plain": [
       "  0%|          | 0/303 [00:00<?, ?it/s]"
      ]
     },
     "metadata": {},
     "output_type": "display_data"
    }
   ],
   "source": [
    "year_to_find = 1996\n",
    "# change file path\n",
    "save_path = \"/Users/majirky/Desktop/ar_spoca/ARspocaBWimgs/\"\n",
    "\n",
    "\n",
    "for i in range(26):\n",
    "\n",
    "    # change path for imgs on which you want to find SPoCA annotations\n",
    "    # if you do not have folders by years, but one big folder with imgs from every year, you should delete for loop\n",
    "    resource_path = f\"/Users/majirky/Desktop/slnko_ar/arfotky_{year_to_find}/*\"\n",
    "    print(f\"rok hladania: {year_to_find}\")\n",
    "\n",
    "\n",
    "    paths = []\n",
    "    for name in glob.glob(resource_path):\n",
    "        paths.append(name)\n",
    "\n",
    "    for path in tqdm(paths):\n",
    "        make_spoca_imgs(path, save_path, \"AR\")\n",
    "\n",
    "    year_to_find = year_to_find + 1\n",
    "\n"
   ]
  },
  {
   "cell_type": "markdown",
   "metadata": {
    "collapsed": false
   },
   "source": [
    "# ADDITIONALS"
   ]
  },
  {
   "attachments": {},
   "cell_type": "markdown",
   "metadata": {
    "collapsed": false
   },
   "source": [
    "## MOVE IMGS FROM YEARS TO SINGLE DIRC\n",
    "we had folders in which where images of sun by year. We used this short script to move those images from folders to one big folder"
   ]
  },
  {
   "cell_type": "code",
   "execution_count": 12,
   "metadata": {
    "collapsed": false
   },
   "outputs": [
    {
     "data": {
      "application/vnd.jupyter.widget-view+json": {
       "model_id": "00f2e9fdcd1d42ba85fc481dfcd91e0f",
       "version_major": 2,
       "version_minor": 0
      },
      "text/plain": [
       "  0%|          | 0/26 [00:00<?, ?it/s]"
      ]
     },
     "metadata": {},
     "output_type": "display_data"
    },
    {
     "name": "stdout",
     "output_type": "stream",
     "text": [
      "rok ukladania: 1996\n",
      "rok ukladania: 1997\n",
      "rok ukladania: 1998\n",
      "rok ukladania: 1999\n",
      "rok ukladania: 2000\n",
      "rok ukladania: 2001\n",
      "rok ukladania: 2002\n",
      "rok ukladania: 2003\n",
      "rok ukladania: 2004\n",
      "rok ukladania: 2005\n",
      "rok ukladania: 2006\n",
      "rok ukladania: 2007\n",
      "rok ukladania: 2008\n",
      "rok ukladania: 2009\n",
      "rok ukladania: 2010\n",
      "rok ukladania: 2011\n",
      "rok ukladania: 2012\n",
      "rok ukladania: 2013\n",
      "rok ukladania: 2014\n",
      "rok ukladania: 2015\n",
      "rok ukladania: 2016\n",
      "rok ukladania: 2017\n",
      "rok ukladania: 2018\n",
      "rok ukladania: 2019\n",
      "rok ukladania: 2020\n",
      "rok ukladania: 2021\n"
     ]
    }
   ],
   "source": [
    "save_path = \"/Users/majirky/Desktop/slnko_ar/arfotky_96-21/\"\n",
    "\n",
    "\n",
    "for i in tqdm(range(1996, 2022)):\n",
    "\n",
    "    resource_path = f\"/Users/majirky/Desktop/slnko_ar/arfotky_{i}/*\"\n",
    "    print(f\"rok ukladania: {i}\")\n",
    "\n",
    "    paths = []\n",
    "    for name in glob.glob(resource_path):\n",
    "        image_name_clean = name[-29: -4]\n",
    "        download_path = save_path + image_name_clean + \".png\"\n",
    "\n",
    "        img = Image.open(name)\n",
    "        img.save(download_path)\n"
   ]
  },
  {
   "cell_type": "code",
   "execution_count": null,
   "metadata": {
    "collapsed": false
   },
   "outputs": [],
   "source": []
  }
 ],
 "metadata": {
  "kernelspec": {
   "display_name": "Python 3",
   "language": "python",
   "name": "python3"
  },
  "language_info": {
   "codemirror_mode": {
    "name": "ipython",
    "version": 3
   },
   "file_extension": ".py",
   "mimetype": "text/x-python",
   "name": "python",
   "nbconvert_exporter": "python",
   "pygments_lexer": "ipython3",
   "version": "3.9.13"
  }
 },
 "nbformat": 4,
 "nbformat_minor": 0
}
