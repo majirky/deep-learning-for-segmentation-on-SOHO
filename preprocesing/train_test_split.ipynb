{
 "cells": [
  {
   "attachments": {},
   "cell_type": "markdown",
   "metadata": {},
   "source": [
    "## SPLIT TRAIN TEST\n",
    "In this notebook, we provide code and script, that helped us split images into train and test sets    \n",
    "Because of sun's activity cycle (every 11 years), we wanted to ensure that we won't have many \"darker\" sun's disks in train dataset and small amount of \"brighter\" sun's disks images or vice versa.    \n",
    "For our training, we could use images from range 2011 - 2021. We randomly selected 80% of images from each year to train set and remaining 20% images to test set. Therefore test set should include 80% of images from year 2011, 80% of 2012 and so on till 2021. Test set should contain 20% of images 2011, 20% of 2012 and so on.    \n",
    "Later while training SCSS-Net we used 20% of training dataset for validation dataset"
   ]
  },
  {
   "cell_type": "code",
   "execution_count": 1,
   "metadata": {
    "collapsed": true
   },
   "outputs": [],
   "source": [
    "from PIL import Image, ImageDraw\n",
    "from PIL import Image, ImageOps\n",
    "from tqdm.notebook import tqdm, trange\n",
    "import glob"
   ]
  },
  {
   "cell_type": "code",
   "execution_count": 2,
   "metadata": {
    "collapsed": false
   },
   "outputs": [],
   "source": [
    "def split(paths_to_split, save_path_train, save_path_test):\n",
    "    \"\"\"function to randomly select 80% of images of given year for training set, and 20% for test set.\n",
    "\n",
    "    Args:\n",
    "        paths_to_split (string): path to folder of images from one year\n",
    "        save_path_train (string): path to folder where to save images for train set\n",
    "        save_path_test (string): path to folder where to save images for test set\n",
    "    \"\"\"\n",
    "    paths = []\n",
    "    # glob randomly shuffles images from folder of all year round images\n",
    "    for path in glob.glob(paths_to_split):\n",
    "        paths.append(path)\n",
    "\n",
    "    train_imgs = paths[ : int(len(paths) * 0.8) ]\n",
    "    test_imgs = paths[ int(len(paths) * 0.8) : len(paths)]\n",
    "\n",
    "    for path in train_imgs:\n",
    "        img = Image.open(path)\n",
    "        name_clean = path[-29:]\n",
    "        download_path = save_path_train + name_clean\n",
    "        img.save(download_path)\n",
    "\n",
    "    for path in test_imgs:\n",
    "        img = Image.open(path)\n",
    "        name_clean = path[-29:]\n",
    "        download_path = save_path_test + name_clean\n",
    "        img.save(download_path)"
   ]
  },
  {
   "cell_type": "code",
   "execution_count": 5,
   "metadata": {
    "collapsed": false
   },
   "outputs": [],
   "source": [
    "# paths\n",
    "imgs = \"/Users/majirky/Desktop/ar_spoca/ARspocaBWimgs/*\"\n",
    "save_path_train = \"/Users/majirky/Desktop/1BP/scss-net/data/ARtrain_masks/\"\n",
    "save_path_test = \"/Users/majirky/Desktop/1BP/scss-net/data/ARtest_masks/\""
   ]
  },
  {
   "cell_type": "code",
   "execution_count": 6,
   "metadata": {
    "collapsed": false
   },
   "outputs": [],
   "source": [
    "# script\n",
    "split(imgs, save_path_train, save_path_test)"
   ]
  },
  {
   "cell_type": "markdown",
   "metadata": {
    "collapsed": false
   },
   "source": [
    "## COPY"
   ]
  },
  {
   "cell_type": "code",
   "execution_count": 24,
   "metadata": {
    "collapsed": false
   },
   "outputs": [],
   "source": [
    "def compare_masks_imgs(path, save_path, all_masks):\n",
    "    image_name_clean = path[-29: -4]\n",
    "    image_name_clean = image_name_clean + \".png\"\n",
    "\n",
    "    if image_name_clean in all_masks:\n",
    "        img = Image.open(path)\n",
    "        download_path = save_path + image_name_clean\n",
    "        img.save(download_path)"
   ]
  },
  {
   "cell_type": "code",
   "execution_count": 28,
   "metadata": {
    "collapsed": false
   },
   "outputs": [],
   "source": [
    "all_masks = []\n",
    "for name in glob.glob(\"/Users/majirky/Desktop/1BP/scss-net/data/ARtrain_masks/*\"):\n",
    "    image_name_clean = name[-29:]\n",
    "    all_masks.append(image_name_clean)"
   ]
  },
  {
   "cell_type": "code",
   "execution_count": 29,
   "metadata": {
    "collapsed": false
   },
   "outputs": [],
   "source": [
    "all_masks = sorted(all_masks)"
   ]
  },
  {
   "cell_type": "code",
   "execution_count": 30,
   "metadata": {
    "collapsed": false
   },
   "outputs": [
    {
     "name": "stdout",
     "output_type": "stream",
     "text": [
      "rok hladania: 2011\n"
     ]
    },
    {
     "data": {
      "application/vnd.jupyter.widget-view+json": {
       "model_id": "09c30610b895483fade78764bde0957b",
       "version_major": 2,
       "version_minor": 0
      },
      "text/plain": [
       "  0%|          | 0/349 [00:00<?, ?it/s]"
      ]
     },
     "metadata": {},
     "output_type": "display_data"
    },
    {
     "name": "stdout",
     "output_type": "stream",
     "text": [
      "rok hladania: 2012\n"
     ]
    },
    {
     "data": {
      "application/vnd.jupyter.widget-view+json": {
       "model_id": "0dc3cc5c32b14b2c910550dc437d12db",
       "version_major": 2,
       "version_minor": 0
      },
      "text/plain": [
       "  0%|          | 0/318 [00:00<?, ?it/s]"
      ]
     },
     "metadata": {},
     "output_type": "display_data"
    },
    {
     "name": "stdout",
     "output_type": "stream",
     "text": [
      "rok hladania: 2013\n"
     ]
    },
    {
     "data": {
      "application/vnd.jupyter.widget-view+json": {
       "model_id": "5ad9a2d5be7e4870b68a15643254e1fe",
       "version_major": 2,
       "version_minor": 0
      },
      "text/plain": [
       "  0%|          | 0/336 [00:00<?, ?it/s]"
      ]
     },
     "metadata": {},
     "output_type": "display_data"
    },
    {
     "name": "stdout",
     "output_type": "stream",
     "text": [
      "rok hladania: 2014\n"
     ]
    },
    {
     "data": {
      "application/vnd.jupyter.widget-view+json": {
       "model_id": "569a5c066c16490eb33d561d27362fff",
       "version_major": 2,
       "version_minor": 0
      },
      "text/plain": [
       "  0%|          | 0/334 [00:00<?, ?it/s]"
      ]
     },
     "metadata": {},
     "output_type": "display_data"
    },
    {
     "name": "stdout",
     "output_type": "stream",
     "text": [
      "rok hladania: 2015\n"
     ]
    },
    {
     "data": {
      "application/vnd.jupyter.widget-view+json": {
       "model_id": "daf88332bbe7451f953cae2f9eda857c",
       "version_major": 2,
       "version_minor": 0
      },
      "text/plain": [
       "  0%|          | 0/342 [00:00<?, ?it/s]"
      ]
     },
     "metadata": {},
     "output_type": "display_data"
    },
    {
     "name": "stdout",
     "output_type": "stream",
     "text": [
      "rok hladania: 2016\n"
     ]
    },
    {
     "data": {
      "application/vnd.jupyter.widget-view+json": {
       "model_id": "7f32777bc24e4ffe9da432d4a5fd6d67",
       "version_major": 2,
       "version_minor": 0
      },
      "text/plain": [
       "  0%|          | 0/349 [00:00<?, ?it/s]"
      ]
     },
     "metadata": {},
     "output_type": "display_data"
    },
    {
     "name": "stdout",
     "output_type": "stream",
     "text": [
      "rok hladania: 2017\n"
     ]
    },
    {
     "data": {
      "application/vnd.jupyter.widget-view+json": {
       "model_id": "c61ed18b27ac4e1ea224f7a5c52922ce",
       "version_major": 2,
       "version_minor": 0
      },
      "text/plain": [
       "  0%|          | 0/207 [00:00<?, ?it/s]"
      ]
     },
     "metadata": {},
     "output_type": "display_data"
    },
    {
     "name": "stdout",
     "output_type": "stream",
     "text": [
      "rok hladania: 2018\n"
     ]
    },
    {
     "data": {
      "application/vnd.jupyter.widget-view+json": {
       "model_id": "e403c60d1db54a73a8fbacda5c652619",
       "version_major": 2,
       "version_minor": 0
      },
      "text/plain": [
       "  0%|          | 0/173 [00:00<?, ?it/s]"
      ]
     },
     "metadata": {},
     "output_type": "display_data"
    },
    {
     "name": "stdout",
     "output_type": "stream",
     "text": [
      "rok hladania: 2019\n"
     ]
    },
    {
     "data": {
      "application/vnd.jupyter.widget-view+json": {
       "model_id": "6fa077e80f2645228eeda434ec12e646",
       "version_major": 2,
       "version_minor": 0
      },
      "text/plain": [
       "  0%|          | 0/282 [00:00<?, ?it/s]"
      ]
     },
     "metadata": {},
     "output_type": "display_data"
    },
    {
     "name": "stdout",
     "output_type": "stream",
     "text": [
      "rok hladania: 2020\n"
     ]
    },
    {
     "data": {
      "application/vnd.jupyter.widget-view+json": {
       "model_id": "e9232bbeb53c49c6b054a5faa21f6734",
       "version_major": 2,
       "version_minor": 0
      },
      "text/plain": [
       "  0%|          | 0/326 [00:00<?, ?it/s]"
      ]
     },
     "metadata": {},
     "output_type": "display_data"
    },
    {
     "name": "stdout",
     "output_type": "stream",
     "text": [
      "rok hladania: 2021\n"
     ]
    },
    {
     "data": {
      "application/vnd.jupyter.widget-view+json": {
       "model_id": "73a299e853fa4bf6a29301feffbb5abf",
       "version_major": 2,
       "version_minor": 0
      },
      "text/plain": [
       "  0%|          | 0/303 [00:00<?, ?it/s]"
      ]
     },
     "metadata": {},
     "output_type": "display_data"
    }
   ],
   "source": [
    "year_to_find = 2011\n",
    "save_path = \"/Users/majirky/Desktop/1BP/scss-net/data/ARtrain_imgs/\"\n",
    "\n",
    "\n",
    "for i in range(11):\n",
    "\n",
    "    resource_path = f\"/Users/majirky/Desktop/slnko_ar/arfotky_{year_to_find}/*\"\n",
    "    print(f\"year_of_splitting: {year_to_find}\")\n",
    "\n",
    "    imgs_paths = []\n",
    "    for name in glob.glob(resource_path):\n",
    "        imgs_paths.append(name)\n",
    "\n",
    "    for path in tqdm(imgs_paths):\n",
    "        compare_masks_imgs(path, save_path, all_masks)\n",
    "\n",
    "    year_to_find = year_to_find + 1"
   ]
  },
  {
   "attachments": {},
   "cell_type": "markdown",
   "metadata": {
    "collapsed": false
   },
   "source": [
    "## CONTROL"
   ]
  },
  {
   "cell_type": "code",
   "execution_count": 100,
   "metadata": {
    "collapsed": false
   },
   "outputs": [],
   "source": [
    "paths1 = []\n",
    "for name in glob.glob(\"/Users/majirky/Desktop/1BP/scss-net/data/test_masks/*\"):\n",
    "    image_name_clean = name[-29:]\n",
    "    paths1.append(image_name_clean)"
   ]
  },
  {
   "cell_type": "code",
   "execution_count": 101,
   "metadata": {
    "collapsed": false
   },
   "outputs": [],
   "source": [
    "paths2 = []\n",
    "for name in glob.glob(\"/Users/majirky/Desktop/1BP/scss-net/data/test_imgs/*\"):\n",
    "    image_name_clean = name[-29:]\n",
    "    paths2.append(image_name_clean)"
   ]
  },
  {
   "cell_type": "code",
   "execution_count": 102,
   "metadata": {
    "collapsed": false
   },
   "outputs": [],
   "source": [
    "for path in paths1:\n",
    "    if path not in paths2:\n",
    "        print(path)"
   ]
  },
  {
   "cell_type": "code",
   "execution_count": null,
   "metadata": {
    "collapsed": false
   },
   "outputs": [],
   "source": []
  }
 ],
 "metadata": {
  "kernelspec": {
   "display_name": "Python 3",
   "language": "python",
   "name": "python3"
  },
  "language_info": {
   "codemirror_mode": {
    "name": "ipython",
    "version": 2
   },
   "file_extension": ".py",
   "mimetype": "text/x-python",
   "name": "python",
   "nbconvert_exporter": "python",
   "pygments_lexer": "ipython2",
   "version": "2.7.6"
  }
 },
 "nbformat": 4,
 "nbformat_minor": 0
}
