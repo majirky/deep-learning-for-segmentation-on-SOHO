{
 "cells": [
  {
   "attachments": {},
   "cell_type": "markdown",
   "metadata": {},
   "source": [
    "## Prerequisites\n",
    "In this notebook, we provide information on how to install necessary python libraries and download all preprocessed data that is needed for this project.   "
   ]
  },
  {
   "attachments": {},
   "cell_type": "markdown",
   "metadata": {},
   "source": [
    "## REQUIREMENTS\n",
    "\n",
    "firstly, we recommend you to create a **python virtual enviroment**.     \n",
    "You can open terminal in your IDE and navigate to the working directory.   \n",
    "Use this command to create one.  \n",
    "```console\n",
    "python -m venv venv\n",
    "``` \n",
    "then just select this enviroment in your IDE\n"
   ]
  },
  {
   "cell_type": "code",
   "execution_count": null,
   "metadata": {},
   "outputs": [],
   "source": [
    "# if you have created a PVE, you can install required libraries by uncommenting code bellow\n",
    "# !pip install -r requirements.txt"
   ]
  },
  {
   "attachments": {},
   "cell_type": "markdown",
   "metadata": {},
   "source": [
    "## GETTING DATA"
   ]
  },
  {
   "attachments": {},
   "cell_type": "markdown",
   "metadata": {},
   "source": [
    "We will download following (~6GB):\n",
    "- train dataset for CH and AR, used to train SCSS-Net\n",
    "- test dataset for CH and AR, used to evaluate SCSS-Net.   \n",
    "    \n",
    "And then:   \n",
    "- 195A cropped images (~6GB)\n",
    "- 195A uncropped images (~2,7GB)\n",
    "- 171A images (~8GB)\n",
    "    \n",
    "You can download those data with this links:\n",
    "\n",
    "- https://mega.nz/folder/M9klWZxK#QbxQMxVMCMtXS6nNzCtE7A   \n",
    "- https://mega.nz/file/hahnWYwT#axh8a7JkDt9cjGPSty40Q_iO56ewNIHN7yAjzoZbQNQ\n",
    "   \n",
    "After downloading them, move them to prepared **data** folder in workspace and **unzip** them.   \n",
    "\n",
    "You can change file names, but you will also have to change paths in code.\n",
    "\n",
    "Your data folder should have following structure of folders, that contains images:   \n",
    "```\n",
    ".  \n",
    "├── data     \n",
    "│   ├── train_test_data    \n",
    "│   │   ├── AR_test_imgs   \n",
    "│   │   ├── AR_test_masks   \n",
    "│   │   ├── AR_train_imgs    \n",
    "│   │   ├── AR_train_masks    \n",
    "│   │   ├── CH_test_imgs     \n",
    "│   │   ├── CH_test_masks    \n",
    "│   │   ├── CH_train_imgs    \n",
    "│   │   ├── CH_train_masks    \n",
    "│   ├── missing.jpg\n",
    "│   ├── imgs_195_96-21    \n",
    "│   ├── imgs_195_cropped_96-21   \n",
    "└── ├── imgs_171_96-21   \n",
    "```\n"
   ]
  },
  {
   "cell_type": "markdown",
   "metadata": {},
   "source": []
  }
 ],
 "metadata": {
  "kernelspec": {
   "display_name": "venv",
   "language": "python",
   "name": "python3"
  },
  "language_info": {
   "codemirror_mode": {
    "name": "ipython",
    "version": 3
   },
   "file_extension": ".py",
   "mimetype": "text/x-python",
   "name": "python",
   "nbconvert_exporter": "python",
   "pygments_lexer": "ipython3",
   "version": "3.8.9"
  },
  "orig_nbformat": 4
 },
 "nbformat": 4,
 "nbformat_minor": 2
}
